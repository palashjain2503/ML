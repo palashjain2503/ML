{
  "cells": [
    {
      "cell_type": "code",
      "execution_count": null,
      "metadata": {
        "colab": {
          "base_uri": "https://localhost:8080/"
        },
        "id": "2wPfhM_1SgJe",
        "outputId": "eb5fe17b-49ac-4048-dcf3-74d7eaa451bc"
      },
      "outputs": [
        {
          "name": "stderr",
          "output_type": "stream",
          "text": [
            "[nltk_data] Downloading package stopwords to /root/nltk_data...\n",
            "[nltk_data]   Unzipping corpora/stopwords.zip.\n"
          ]
        },
        {
          "name": "stdout",
          "output_type": "stream",
          "text": [
            "After Oversampling:\n",
            "Label\n",
            "0    3859\n",
            "1     598\n",
            "Name: count, dtype: int64\n"
          ]
        }
      ],
      "source": [
        "# Import Libraries\n",
        "import pandas as pd\n",
        "import numpy as np\n",
        "import string\n",
        "import re\n",
        "\n",
        "# Text Processing\n",
        "import nltk\n",
        "nltk.download('stopwords')\n",
        "from nltk.corpus import stopwords\n",
        "\n",
        "# ML Preprocessing\n",
        "from sklearn.model_selection import train_test_split\n",
        "from sklearn.preprocessing import LabelEncoder\n",
        "from sklearn.feature_extraction.text import TfidfVectorizer\n",
        "\n",
        "# Oversampling because of imbalanced dataset\n",
        "from imblearn.over_sampling import SMOTE\n",
        "\n",
        "df = pd.read_csv('spam.csv')\n",
        "df = df[['Category', 'Message']]  \n",
        "\n",
        "# Step 2: Encode Labels\n",
        "label_encoder = LabelEncoder()\n",
        "df['Label'] = label_encoder.fit_transform(df['Category'])  # ham=0, spam=1\n",
        "\n",
        "\n",
        "\n",
        "# Step 3: Clean Text Messages\n",
        "def clean_text(text):\n",
        "    text = text.lower()\n",
        "    text = re.sub(r'\\d+', '', text)\n",
        "    text = text.translate(str.maketrans('', '', string.punctuation))\n",
        "    text = text.strip()\n",
        "    text = ' '.join([word for word in text.split() if word not in stopwords.words('english')])\n",
        "    return text\n",
        "\n",
        "df['Cleaned_Message'] = df['Message'].apply(clean_text)\n",
        "\n",
        "# Step 4: TF-IDF Vectorization\n",
        "vectorizer = TfidfVectorizer(max_features=3000)\n",
        "X = vectorizer.fit_transform(df['Cleaned_Message']).toarray()\n",
        "y = df['Label']\n",
        "\n",
        "# Step 5: Train-Test Split\n",
        "X_train, X_test, y_train, y_test = train_test_split(\n",
        "    X, y, test_size=0.2, stratify=y, random_state=42\n",
        ")\n",
        "\n",
        "# Step 6: SMOTE Oversampling on Training Data\n",
        "smote = SMOTE(random_state=42)\n",
        "X_train_resampled, y_train_resampled =X_train, y_train\n",
        "\n",
        "print(\"After Oversampling:\")\n",
        "print(pd.Series(y_train_resampled).value_counts())\n"
      ]
    },
    {
      "cell_type": "code",
      "execution_count": null,
      "metadata": {
        "colab": {
          "base_uri": "https://localhost:8080/"
        },
        "id": "DzMlshHLlwlz",
        "outputId": "3675f26c-216c-4bfd-c95a-1cc6135fd96a"
      },
      "outputs": [
        {
          "name": "stdout",
          "output_type": "stream",
          "text": [
            " SVM Results:\n",
            "Accuracy: 0.9829596412556054\n",
            "Confusion Matrix:\n",
            " [[964   2]\n",
            " [ 17 132]]\n",
            "Classification Report:\n",
            "               precision    recall  f1-score   support\n",
            "\n",
            "           0       0.98      1.00      0.99       966\n",
            "           1       0.99      0.89      0.93       149\n",
            "\n",
            "    accuracy                           0.98      1115\n",
            "   macro avg       0.98      0.94      0.96      1115\n",
            "weighted avg       0.98      0.98      0.98      1115\n",
            "\n"
          ]
        }
      ],
      "source": [
        "# Import Models & Metrics\n",
        "from sklearn.svm import SVC\n",
        "from sklearn.neighbors import KNeighborsClassifier\n",
        "from sklearn.metrics import classification_report, confusion_matrix, accuracy_score\n",
        "\n",
        "# -------------------learnt that for svm oversampling is not needed as it works well with imbalanced data----------------\n",
        "# Train SVM Model\n",
        "svm_model = SVC(kernel='linear')  \n",
        "svm_model.fit(X_train_resampled, y_train_resampled)\n",
        "\n",
        "# Predict on test data\n",
        "svm_preds = svm_model.predict(X_test)\n",
        "\n",
        "# Evaluate SVM\n",
        "print(\" SVM Results:\")\n",
        "print(\"Accuracy:\", accuracy_score(y_test, svm_preds))\n",
        "print(\"Confusion Matrix:\\n\", confusion_matrix(y_test, svm_preds))\n",
        "print(\"Classification Report:\\n\", classification_report(y_test, svm_preds))\n",
        "\n"
      ]
    },
    {
      "cell_type": "code",
      "execution_count": null,
      "metadata": {
        "colab": {
          "base_uri": "https://localhost:8080/",
          "height": 163
        },
        "id": "v3HzIoCNnTbm",
        "outputId": "da31b622-812e-4665-fe78-5ea71ee7db47"
      },
      "outputs": [
        {
          "ename": "NameError",
          "evalue": "name 'svm_model' is not defined",
          "output_type": "error",
          "traceback": [
            "\u001b[0;31m---------------------------------------------------------------------------\u001b[0m",
            "\u001b[0;31mNameError\u001b[0m                                 Traceback (most recent call last)",
            "\u001b[0;32m/tmp/ipython-input-1-353662120.py\u001b[0m in \u001b[0;36m<cell line: 0>\u001b[0;34m()\u001b[0m\n\u001b[0;32m----> 1\u001b[0;31m \u001b[0mprint\u001b[0m\u001b[0;34m(\u001b[0m\u001b[0;34m\"🚫 SPAM\"\u001b[0m \u001b[0;32mif\u001b[0m \u001b[0msvm_model\u001b[0m\u001b[0;34m.\u001b[0m\u001b[0mpredict\u001b[0m\u001b[0;34m(\u001b[0m\u001b[0mvectorizer\u001b[0m\u001b[0;34m.\u001b[0m\u001b[0mtransform\u001b[0m\u001b[0;34m(\u001b[0m\u001b[0;34m[\u001b[0m\u001b[0mclean_text\u001b[0m\u001b[0;34m(\u001b[0m\u001b[0;34m\"₹1.8-L Cr added in 14 days—are you Invested or planning yet?\"\u001b[0m\u001b[0;34m)\u001b[0m\u001b[0;34m]\u001b[0m\u001b[0;34m)\u001b[0m\u001b[0;34m.\u001b[0m\u001b[0mtoarray\u001b[0m\u001b[0;34m(\u001b[0m\u001b[0;34m)\u001b[0m\u001b[0;34m)\u001b[0m\u001b[0;34m[\u001b[0m\u001b[0;36m0\u001b[0m\u001b[0;34m]\u001b[0m \u001b[0;32melse\u001b[0m \u001b[0;34m\"✅ Not Spam\"\u001b[0m\u001b[0;34m)\u001b[0m\u001b[0;34m\u001b[0m\u001b[0;34m\u001b[0m\u001b[0m\n\u001b[0m",
            "\u001b[0;31mNameError\u001b[0m: name 'svm_model' is not defined"
          ]
        }
      ],
      "source": [
        "\n",
        "print(\"🚫 SPAM\" if svm_model.predict(vectorizer.transform([clean_text(\"₹1.8-L Cr added in 14 days—are you Invested or planning yet?\")]).toarray())[0] else \"✅ Not Spam\")\n"
      ]
    },
    {
      "cell_type": "code",
      "execution_count": null,
      "metadata": {
        "colab": {
          "base_uri": "https://localhost:8080/"
        },
        "id": "wNDIbTGOl-dh",
        "outputId": "b7d82bd6-fe47-4620-a3f8-28d913185ae6"
      },
      "outputs": [
        {
          "name": "stdout",
          "output_type": "stream",
          "text": [
            "\n",
            " KNN Results:\n",
            "Accuracy: 0.9049327354260089\n",
            "Confusion Matrix:\n",
            " [[966   0]\n",
            " [106  43]]\n",
            "Classification Report:\n",
            "               precision    recall  f1-score   support\n",
            "\n",
            "           0       0.90      1.00      0.95       966\n",
            "           1       1.00      0.29      0.45       149\n",
            "\n",
            "    accuracy                           0.90      1115\n",
            "   macro avg       0.95      0.64      0.70      1115\n",
            "weighted avg       0.91      0.90      0.88      1115\n",
            "\n"
          ]
        }
      ],
      "source": [
        "# ------------------------\n",
        "# Train KNN Model\n",
        "knn_model = KNeighborsClassifier(n_neighbors=9)\n",
        "knn_model.fit(X_train_resampled, y_train_resampled)\n",
        "\n",
        "# Predict on test data\n",
        "knn_preds = knn_model.predict(X_test)\n",
        "\n",
        "# Evaluate KNN\n",
        "print(\"\\n KNN Results:\")\n",
        "print(\"Accuracy:\", accuracy_score(y_test, knn_preds))\n",
        "print(\"Confusion Matrix:\\n\", confusion_matrix(y_test, knn_preds))\n",
        "print(\"Classification Report:\\n\", classification_report(y_test, knn_preds))\n"
      ]
    }
  ],
  "metadata": {
    "colab": {
      "provenance": []
    },
    "kernelspec": {
      "display_name": "Python 3",
      "name": "python3"
    },
    "language_info": {
      "name": "python"
    }
  },
  "nbformat": 4,
  "nbformat_minor": 0
}
